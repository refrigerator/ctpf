{
 "cells": [
  {
   "cell_type": "code",
   "execution_count": 55,
   "metadata": {
    "collapsed": false
   },
   "outputs": [],
   "source": [
    "from initialise import initialise_with_lda, initialise_user_doc_matrix\n",
    "\n",
    "import numpy as np\n",
    "import pandas as pd"
   ]
  },
  {
   "cell_type": "code",
   "execution_count": 56,
   "metadata": {
    "collapsed": true
   },
   "outputs": [],
   "source": [
    "# data paths\n",
    "PATH_TO_DOCUMENTS = 'data/item_words.csv'\n",
    "PATH_TO_USERS = 'data/user_ratings.csv'"
   ]
  },
  {
   "cell_type": "code",
   "execution_count": 39,
   "metadata": {
    "collapsed": false
   },
   "outputs": [],
   "source": [
    "init_docs = initialise_with_lda(PATH_TO_DOCUMENTS, 1000, 15)\n",
    "doc_topic_matrix = init_docs[1]\n",
    "topic_word_matrix = init_docs[0]\n",
    "vocabulary = init_docs[2]"
   ]
  },
  {
   "cell_type": "code",
   "execution_count": 66,
   "metadata": {
    "collapsed": false
   },
   "outputs": [],
   "source": [
    "# TODO: move this to initialise.py\n",
    "def initialise_user_doc_matrix(data):\n",
    "    \"\"\"Initialise user-document distribution\n",
    "\n",
    "    Parameters\n",
    "    ----------\n",
    "    data : .csv file path\n",
    "        as csv: Data frame with columns 'uid' (user ID), 'iid' (item ID) where a row represents\n",
    "        a particular item being in a particular user's library.\n",
    "\n",
    "    Returns\n",
    "    -------\n",
    "    user_ratings : 2-d array\n",
    "        user_ratings[i,j] = 1 iff item j is in user i's library, 0 otherwise\n",
    "    \"\"\"\n",
    "    dataset = pd.read_csv(data, header=0, sep=\",\")\n",
    "    highest_item = max(dataset['iid'])\n",
    "    highest_user = max(dataset['uid'])\n",
    "    user_ratings = np.zeros((highest_user+1, highest_item+1))\n",
    "    for i in range(0, len(dataset)-1):\n",
    "        item = dataset.loc[i, 'iid']\n",
    "        user = dataset.loc[i, 'uid']\n",
    "        user_ratings[user, item] = 1\n",
    "    return user_ratings"
   ]
  },
  {
   "cell_type": "code",
   "execution_count": 68,
   "metadata": {
    "collapsed": false
   },
   "outputs": [],
   "source": [
    "user_doc_matrix = initialise_user_doc_matrix(PATH_TO_USERS)"
   ]
  },
  {
   "cell_type": "code",
   "execution_count": null,
   "metadata": {
    "collapsed": true
   },
   "outputs": [],
   "source": []
  }
 ],
 "metadata": {
  "anaconda-cloud": {},
  "kernelspec": {
   "display_name": "Python [default]",
   "language": "python",
   "name": "python2"
  },
  "language_info": {
   "codemirror_mode": {
    "name": "ipython",
    "version": 2
   },
   "file_extension": ".py",
   "mimetype": "text/x-python",
   "name": "python",
   "nbconvert_exporter": "python",
   "pygments_lexer": "ipython2",
   "version": "2.7.12"
  }
 },
 "nbformat": 4,
 "nbformat_minor": 1
}
